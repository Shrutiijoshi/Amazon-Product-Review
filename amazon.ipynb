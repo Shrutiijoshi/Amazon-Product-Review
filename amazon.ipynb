{
 "cells": [
  {
   "cell_type": "code",
   "execution_count": 68,
   "id": "d585cdf3",
   "metadata": {},
   "outputs": [],
   "source": [
    "import pandas as pd\n",
    "import matplotlib.pyplot as plt\n",
    "import seaborn as sns"
   ]
  },
  {
   "cell_type": "code",
   "execution_count": 69,
   "id": "9479ad38",
   "metadata": {},
   "outputs": [
    {
     "data": {
      "text/html": [
       "<div>\n",
       "<style scoped>\n",
       "    .dataframe tbody tr th:only-of-type {\n",
       "        vertical-align: middle;\n",
       "    }\n",
       "\n",
       "    .dataframe tbody tr th {\n",
       "        vertical-align: top;\n",
       "    }\n",
       "\n",
       "    .dataframe thead th {\n",
       "        text-align: right;\n",
       "    }\n",
       "</style>\n",
       "<table border=\"1\" class=\"dataframe\">\n",
       "  <thead>\n",
       "    <tr style=\"text-align: right;\">\n",
       "      <th></th>\n",
       "      <th>product_id</th>\n",
       "      <th>product_name</th>\n",
       "      <th>category</th>\n",
       "      <th>discounted_price</th>\n",
       "      <th>actual_price</th>\n",
       "      <th>discount_percentage</th>\n",
       "      <th>rating</th>\n",
       "      <th>rating_count</th>\n",
       "      <th>about_product</th>\n",
       "      <th>user_id</th>\n",
       "      <th>user_name</th>\n",
       "      <th>review_id</th>\n",
       "      <th>review_title</th>\n",
       "      <th>review_content</th>\n",
       "      <th>img_link</th>\n",
       "      <th>product_link</th>\n",
       "    </tr>\n",
       "  </thead>\n",
       "  <tbody>\n",
       "    <tr>\n",
       "      <th>0</th>\n",
       "      <td>B002PD61Y4</td>\n",
       "      <td>D-Link DWA-131 300 Mbps Wireless Nano USB Adap...</td>\n",
       "      <td>Computers&amp;Accessories|NetworkingDevices|Networ...</td>\n",
       "      <td>₹507</td>\n",
       "      <td>₹1,208</td>\n",
       "      <td>58%</td>\n",
       "      <td>4.1</td>\n",
       "      <td>8,131</td>\n",
       "      <td>Connects your computer to a high-speed wireles...</td>\n",
       "      <td>AGA2PZGWMQIRA46VYOTICFE7KCBA,AHI2QJ4CLTCQWACDI...</td>\n",
       "      <td>nilesh,EAGLE,Manoj KNS,Titus P.,Paras singla,a...</td>\n",
       "      <td>R2EJIN3N3L3XKI,R2JMJ8QNG66LV4,R3B46JNPC2T4E7,R...</td>\n",
       "      <td>good tool to use for,Brand is always good,Over...</td>\n",
       "      <td>good quality tool from d linkWiFi signal is go...</td>\n",
       "      <td>https://m.media-amazon.com/images/I/31+NwZ8gb1...</td>\n",
       "      <td>https://www.amazon.in/D-Link-DWA-131-Wireless-...</td>\n",
       "    </tr>\n",
       "    <tr>\n",
       "      <th>1</th>\n",
       "      <td>B002PD61Y4</td>\n",
       "      <td>D-Link DWA-131 300 Mbps Wireless Nano USB Adap...</td>\n",
       "      <td>Computers&amp;Accessories|NetworkingDevices|Networ...</td>\n",
       "      <td>₹507</td>\n",
       "      <td>₹1,208</td>\n",
       "      <td>58%</td>\n",
       "      <td>4.1</td>\n",
       "      <td>8,131</td>\n",
       "      <td>Connects your computer to a high-speed wireles...</td>\n",
       "      <td>AGA2PZGWMQIRA46VYOTICFE7KCBA,AHI2QJ4CLTCQWACDI...</td>\n",
       "      <td>nilesh,EAGLE,Manoj KNS,Titus P.,Paras singla,a...</td>\n",
       "      <td>R2EJIN3N3L3XKI,R2JMJ8QNG66LV4,R3B46JNPC2T4E7,R...</td>\n",
       "      <td>good tool to use for,Brand is always good,Over...</td>\n",
       "      <td>good quality tool from d linkWiFi signal is go...</td>\n",
       "      <td>https://m.media-amazon.com/images/W/WEBP_40237...</td>\n",
       "      <td>https://www.amazon.in/D-Link-DWA-131-Wireless-...</td>\n",
       "    </tr>\n",
       "    <tr>\n",
       "      <th>2</th>\n",
       "      <td>B002SZEOLG</td>\n",
       "      <td>TP-Link Nano USB WiFi Dongle 150Mbps High Gain...</td>\n",
       "      <td>Computers&amp;Accessories|NetworkingDevices|Networ...</td>\n",
       "      <td>₹749</td>\n",
       "      <td>₹1,339</td>\n",
       "      <td>44%</td>\n",
       "      <td>4.2</td>\n",
       "      <td>1,79,692</td>\n",
       "      <td>150 Mbps Wi-Fi —— Exceptional wireless speed u...</td>\n",
       "      <td>AGV3IEFANZCKECFGUM42MRH5FNOA,AEBO7NWCNXKT4AESA...</td>\n",
       "      <td>Azhar JuMan,Anirudh Sood,Hari Krishnan PS,Akas...</td>\n",
       "      <td>R1LW6NWSVTVZ2H,R3VR5WFKUS15C5,R2F6GC79OYWUKQ,R...</td>\n",
       "      <td>Works on linux for me. Get the model with ante...</td>\n",
       "      <td>I use this to connect an old PC to internet. I...</td>\n",
       "      <td>https://m.media-amazon.com/images/I/31Wb+A3VVd...</td>\n",
       "      <td>https://www.amazon.in/TP-Link-TL-WN722N-150Mbp...</td>\n",
       "    </tr>\n",
       "    <tr>\n",
       "      <th>3</th>\n",
       "      <td>B003B00484</td>\n",
       "      <td>Duracell Plus AAA Rechargeable Batteries (750 ...</td>\n",
       "      <td>Electronics|GeneralPurposeBatteries&amp;BatteryCha...</td>\n",
       "      <td>₹399</td>\n",
       "      <td>₹499</td>\n",
       "      <td>20%</td>\n",
       "      <td>4.3</td>\n",
       "      <td>27,201</td>\n",
       "      <td>Duracell Rechargeable AAA 750mAh batteries sta...</td>\n",
       "      <td>AG2ICOYPSOV5SGBKFEYHGKCNK7PA,AGJ3OQ4X262D3MAQZ...</td>\n",
       "      <td>T N Sivaji,Akku,V,Meet,MOHAMMED,Niranjan koyri...</td>\n",
       "      <td>R5L3FAFS6JXJF,R1VTQ25LXQX5UD,R6RJYAZUM5240,R1S...</td>\n",
       "      <td>Works Good,Perfect replacement cell for trimme...</td>\n",
       "      <td>Works good,Bought it to replace my Phillips QT...</td>\n",
       "      <td>https://m.media-amazon.com/images/I/418YrbHVLC...</td>\n",
       "      <td>https://www.amazon.in/Duracell-AAA-750mAh-Rech...</td>\n",
       "    </tr>\n",
       "    <tr>\n",
       "      <th>4</th>\n",
       "      <td>B003L62T7W</td>\n",
       "      <td>Logitech B100 Wired USB Mouse, 3 yr Warranty, ...</td>\n",
       "      <td>Computers&amp;Accessories|Accessories&amp;Peripherals|...</td>\n",
       "      <td>₹279</td>\n",
       "      <td>₹375</td>\n",
       "      <td>26%</td>\n",
       "      <td>4.3</td>\n",
       "      <td>31,534</td>\n",
       "      <td>A comfortable, ambidextrous shape feels good i...</td>\n",
       "      <td>AE6DY6YWTSSE3XNHDXZDGQM2JL2Q,AES3UPSNCD37JZLHZ...</td>\n",
       "      <td>Uday Joglekar,Simi Singh,Hi,chirag bansal,Swar...</td>\n",
       "      <td>R3U9FRV2Q625DO,R3EJZ83W9OHW3D,RSH53O0JL66NL,R3...</td>\n",
       "      <td>Handy Mouse,Good quality mouse,Good one.,Good,...</td>\n",
       "      <td>Liked this Product,https://m.media-amazon.com/...</td>\n",
       "      <td>https://m.media-amazon.com/images/I/31iFF1Kbkp...</td>\n",
       "      <td>https://www.amazon.in/Logitech-B100-Optical-Mo...</td>\n",
       "    </tr>\n",
       "  </tbody>\n",
       "</table>\n",
       "</div>"
      ],
      "text/plain": [
       "   product_id                                       product_name  \\\n",
       "0  B002PD61Y4  D-Link DWA-131 300 Mbps Wireless Nano USB Adap...   \n",
       "1  B002PD61Y4  D-Link DWA-131 300 Mbps Wireless Nano USB Adap...   \n",
       "2  B002SZEOLG  TP-Link Nano USB WiFi Dongle 150Mbps High Gain...   \n",
       "3  B003B00484  Duracell Plus AAA Rechargeable Batteries (750 ...   \n",
       "4  B003L62T7W  Logitech B100 Wired USB Mouse, 3 yr Warranty, ...   \n",
       "\n",
       "                                            category discounted_price  \\\n",
       "0  Computers&Accessories|NetworkingDevices|Networ...             ₹507   \n",
       "1  Computers&Accessories|NetworkingDevices|Networ...             ₹507   \n",
       "2  Computers&Accessories|NetworkingDevices|Networ...             ₹749   \n",
       "3  Electronics|GeneralPurposeBatteries&BatteryCha...             ₹399   \n",
       "4  Computers&Accessories|Accessories&Peripherals|...             ₹279   \n",
       "\n",
       "  actual_price discount_percentage rating rating_count  \\\n",
       "0       ₹1,208                 58%    4.1        8,131   \n",
       "1       ₹1,208                 58%    4.1        8,131   \n",
       "2       ₹1,339                 44%    4.2     1,79,692   \n",
       "3         ₹499                 20%    4.3       27,201   \n",
       "4         ₹375                 26%    4.3       31,534   \n",
       "\n",
       "                                       about_product  \\\n",
       "0  Connects your computer to a high-speed wireles...   \n",
       "1  Connects your computer to a high-speed wireles...   \n",
       "2  150 Mbps Wi-Fi —— Exceptional wireless speed u...   \n",
       "3  Duracell Rechargeable AAA 750mAh batteries sta...   \n",
       "4  A comfortable, ambidextrous shape feels good i...   \n",
       "\n",
       "                                             user_id  \\\n",
       "0  AGA2PZGWMQIRA46VYOTICFE7KCBA,AHI2QJ4CLTCQWACDI...   \n",
       "1  AGA2PZGWMQIRA46VYOTICFE7KCBA,AHI2QJ4CLTCQWACDI...   \n",
       "2  AGV3IEFANZCKECFGUM42MRH5FNOA,AEBO7NWCNXKT4AESA...   \n",
       "3  AG2ICOYPSOV5SGBKFEYHGKCNK7PA,AGJ3OQ4X262D3MAQZ...   \n",
       "4  AE6DY6YWTSSE3XNHDXZDGQM2JL2Q,AES3UPSNCD37JZLHZ...   \n",
       "\n",
       "                                           user_name  \\\n",
       "0  nilesh,EAGLE,Manoj KNS,Titus P.,Paras singla,a...   \n",
       "1  nilesh,EAGLE,Manoj KNS,Titus P.,Paras singla,a...   \n",
       "2  Azhar JuMan,Anirudh Sood,Hari Krishnan PS,Akas...   \n",
       "3  T N Sivaji,Akku,V,Meet,MOHAMMED,Niranjan koyri...   \n",
       "4  Uday Joglekar,Simi Singh,Hi,chirag bansal,Swar...   \n",
       "\n",
       "                                           review_id  \\\n",
       "0  R2EJIN3N3L3XKI,R2JMJ8QNG66LV4,R3B46JNPC2T4E7,R...   \n",
       "1  R2EJIN3N3L3XKI,R2JMJ8QNG66LV4,R3B46JNPC2T4E7,R...   \n",
       "2  R1LW6NWSVTVZ2H,R3VR5WFKUS15C5,R2F6GC79OYWUKQ,R...   \n",
       "3  R5L3FAFS6JXJF,R1VTQ25LXQX5UD,R6RJYAZUM5240,R1S...   \n",
       "4  R3U9FRV2Q625DO,R3EJZ83W9OHW3D,RSH53O0JL66NL,R3...   \n",
       "\n",
       "                                        review_title  \\\n",
       "0  good tool to use for,Brand is always good,Over...   \n",
       "1  good tool to use for,Brand is always good,Over...   \n",
       "2  Works on linux for me. Get the model with ante...   \n",
       "3  Works Good,Perfect replacement cell for trimme...   \n",
       "4  Handy Mouse,Good quality mouse,Good one.,Good,...   \n",
       "\n",
       "                                      review_content  \\\n",
       "0  good quality tool from d linkWiFi signal is go...   \n",
       "1  good quality tool from d linkWiFi signal is go...   \n",
       "2  I use this to connect an old PC to internet. I...   \n",
       "3  Works good,Bought it to replace my Phillips QT...   \n",
       "4  Liked this Product,https://m.media-amazon.com/...   \n",
       "\n",
       "                                            img_link  \\\n",
       "0  https://m.media-amazon.com/images/I/31+NwZ8gb1...   \n",
       "1  https://m.media-amazon.com/images/W/WEBP_40237...   \n",
       "2  https://m.media-amazon.com/images/I/31Wb+A3VVd...   \n",
       "3  https://m.media-amazon.com/images/I/418YrbHVLC...   \n",
       "4  https://m.media-amazon.com/images/I/31iFF1Kbkp...   \n",
       "\n",
       "                                        product_link  \n",
       "0  https://www.amazon.in/D-Link-DWA-131-Wireless-...  \n",
       "1  https://www.amazon.in/D-Link-DWA-131-Wireless-...  \n",
       "2  https://www.amazon.in/TP-Link-TL-WN722N-150Mbp...  \n",
       "3  https://www.amazon.in/Duracell-AAA-750mAh-Rech...  \n",
       "4  https://www.amazon.in/Logitech-B100-Optical-Mo...  "
      ]
     },
     "execution_count": 69,
     "metadata": {},
     "output_type": "execute_result"
    }
   ],
   "source": [
    "df=pd.read_csv(\"Amazon.csv\")\n",
    "df.head()"
   ]
  },
  {
   "cell_type": "code",
   "execution_count": 70,
   "id": "cd5e1712",
   "metadata": {},
   "outputs": [
    {
     "data": {
      "text/plain": [
       "product_id             0\n",
       "product_name           0\n",
       "category               0\n",
       "discounted_price       0\n",
       "actual_price           0\n",
       "discount_percentage    0\n",
       "rating                 0\n",
       "rating_count           2\n",
       "about_product          0\n",
       "user_id                0\n",
       "user_name              0\n",
       "review_id              0\n",
       "review_title           0\n",
       "review_content         0\n",
       "img_link               0\n",
       "product_link           0\n",
       "dtype: int64"
      ]
     },
     "execution_count": 70,
     "metadata": {},
     "output_type": "execute_result"
    }
   ],
   "source": [
    "df.isnull().sum()"
   ]
  },
  {
   "cell_type": "markdown",
   "id": "9ac112f9",
   "metadata": {},
   "source": [
    "## Discount Analysis"
   ]
  },
  {
   "cell_type": "code",
   "execution_count": 71,
   "id": "f1eb1a55",
   "metadata": {},
   "outputs": [
    {
     "name": "stdout",
     "output_type": "stream",
     "text": [
      "product_id             object\n",
      "product_name           object\n",
      "category               object\n",
      "discounted_price       object\n",
      "actual_price           object\n",
      "discount_percentage    object\n",
      "rating                 object\n",
      "rating_count           object\n",
      "about_product          object\n",
      "user_id                object\n",
      "user_name              object\n",
      "review_id              object\n",
      "review_title           object\n",
      "review_content         object\n",
      "img_link               object\n",
      "product_link           object\n",
      "dtype: object\n"
     ]
    }
   ],
   "source": [
    "print(df.dtypes)"
   ]
  },
  {
   "cell_type": "code",
   "execution_count": 72,
   "id": "ca28e753",
   "metadata": {},
   "outputs": [],
   "source": [
    "df[\"rating\"]=pd.to_numeric(df[\"rating\"],errors=\"coerce\")\n",
    "df['discount_percentage'] = df['discount_percentage'].str.rstrip('%').astype('float') / 100"
   ]
  },
  {
   "cell_type": "code",
   "execution_count": 73,
   "id": "27678a3c",
   "metadata": {},
   "outputs": [
    {
     "data": {
      "image/png": "[encoded data removed]",
      "text/plain": [
       "<Figure size 360x360 with 1 Axes>"
      ]
     },
     "metadata": {
      "needs_background": "light"
     },
     "output_type": "display_data"
    }
   ],
   "source": [
    "sns.lmplot(x=\"discount_percentage\",y=\"rating\",data=df,scatter_kws={\"s\":50,\"alpha\":0.5})\n",
    "plt.title(\"Relationship Between Discount Percentage and Product Rating\")\n",
    "plt.xlabel(\"discount_percentage\")\n",
    "plt.ylabel(\"rating\")\n",
    "plt.show()"
   ]
  },
  {
   "cell_type": "markdown",
   "id": "67d1057c",
   "metadata": {},
   "source": [
    "There is a negligible impact of discount percentage on product rating\n",
    "We can conclude that products with more discount percentage having higher rating "
   ]
  },
  {
   "cell_type": "markdown",
   "id": "e9b3eae7",
   "metadata": {},
   "source": [
    "## Category Analysis"
   ]
  },
  {
   "cell_type": "code",
   "execution_count": 74,
   "id": "34968e1e",
   "metadata": {},
   "outputs": [
    {
     "data": {
      "text/html": [
       "<div>\n",
       "<style scoped>\n",
       "    .dataframe tbody tr th:only-of-type {\n",
       "        vertical-align: middle;\n",
       "    }\n",
       "\n",
       "    .dataframe tbody tr th {\n",
       "        vertical-align: top;\n",
       "    }\n",
       "\n",
       "    .dataframe thead th {\n",
       "        text-align: right;\n",
       "    }\n",
       "</style>\n",
       "<table border=\"1\" class=\"dataframe\">\n",
       "  <thead>\n",
       "    <tr style=\"text-align: right;\">\n",
       "      <th></th>\n",
       "      <th>category</th>\n",
       "      <th>rating</th>\n",
       "    </tr>\n",
       "  </thead>\n",
       "  <tbody>\n",
       "    <tr>\n",
       "      <th>0</th>\n",
       "      <td>Car&amp;Motorbike|CarAccessories|InteriorAccessori...</td>\n",
       "      <td>3.800000</td>\n",
       "    </tr>\n",
       "    <tr>\n",
       "      <th>1</th>\n",
       "      <td>Computers&amp;Accessories|Accessories&amp;Peripherals|...</td>\n",
       "      <td>4.150000</td>\n",
       "    </tr>\n",
       "    <tr>\n",
       "      <th>2</th>\n",
       "      <td>Computers&amp;Accessories|Accessories&amp;Peripherals|...</td>\n",
       "      <td>3.500000</td>\n",
       "    </tr>\n",
       "    <tr>\n",
       "      <th>3</th>\n",
       "      <td>Computers&amp;Accessories|Accessories&amp;Peripherals|...</td>\n",
       "      <td>3.600000</td>\n",
       "    </tr>\n",
       "    <tr>\n",
       "      <th>4</th>\n",
       "      <td>Computers&amp;Accessories|Accessories&amp;Peripherals|...</td>\n",
       "      <td>4.050000</td>\n",
       "    </tr>\n",
       "    <tr>\n",
       "      <th>...</th>\n",
       "      <td>...</td>\n",
       "      <td>...</td>\n",
       "    </tr>\n",
       "    <tr>\n",
       "      <th>206</th>\n",
       "      <td>OfficeProducts|OfficePaperProducts|Paper|Stati...</td>\n",
       "      <td>4.250000</td>\n",
       "    </tr>\n",
       "    <tr>\n",
       "      <th>207</th>\n",
       "      <td>OfficeProducts|OfficePaperProducts|Paper|Stati...</td>\n",
       "      <td>4.150000</td>\n",
       "    </tr>\n",
       "    <tr>\n",
       "      <th>208</th>\n",
       "      <td>OfficeProducts|OfficePaperProducts|Paper|Stati...</td>\n",
       "      <td>4.300000</td>\n",
       "    </tr>\n",
       "    <tr>\n",
       "      <th>209</th>\n",
       "      <td>OfficeProducts|OfficePaperProducts|Paper|Stati...</td>\n",
       "      <td>4.133333</td>\n",
       "    </tr>\n",
       "    <tr>\n",
       "      <th>210</th>\n",
       "      <td>Toys&amp;Games|Arts&amp;Crafts|Drawing&amp;PaintingSupplie...</td>\n",
       "      <td>4.300000</td>\n",
       "    </tr>\n",
       "  </tbody>\n",
       "</table>\n",
       "<p>211 rows × 2 columns</p>\n",
       "</div>"
      ],
      "text/plain": [
       "                                              category    rating\n",
       "0    Car&Motorbike|CarAccessories|InteriorAccessori...  3.800000\n",
       "1    Computers&Accessories|Accessories&Peripherals|...  4.150000\n",
       "2    Computers&Accessories|Accessories&Peripherals|...  3.500000\n",
       "3    Computers&Accessories|Accessories&Peripherals|...  3.600000\n",
       "4    Computers&Accessories|Accessories&Peripherals|...  4.050000\n",
       "..                                                 ...       ...\n",
       "206  OfficeProducts|OfficePaperProducts|Paper|Stati...  4.250000\n",
       "207  OfficeProducts|OfficePaperProducts|Paper|Stati...  4.150000\n",
       "208  OfficeProducts|OfficePaperProducts|Paper|Stati...  4.300000\n",
       "209  OfficeProducts|OfficePaperProducts|Paper|Stati...  4.133333\n",
       "210  Toys&Games|Arts&Crafts|Drawing&PaintingSupplie...  4.300000\n",
       "\n",
       "[211 rows x 2 columns]"
      ]
     },
     "execution_count": 74,
     "metadata": {},
     "output_type": "execute_result"
    }
   ],
   "source": [
    "df1=df.groupby(\"category\")[\"rating\"].mean().reset_index()\n",
    "df1"
   ]
  },
  {
   "cell_type": "code",
   "execution_count": 75,
   "id": "26b61f1a",
   "metadata": {},
   "outputs": [
    {
     "data": {
      "text/plain": [
       "category    Computers&Accessories|Tablets\n",
       "rating                                4.6\n",
       "Name: 57, dtype: object"
      ]
     },
     "execution_count": 75,
     "metadata": {},
     "output_type": "execute_result"
    }
   ],
   "source": [
    "df2=df1.loc[df1[\"rating\"].idxmax()]\n",
    "df2"
   ]
  },
  {
   "cell_type": "markdown",
   "id": "ec6bebc8",
   "metadata": {},
   "source": [
    "The category Computers&Accessories|Tablets has highest average rating of 4.6"
   ]
  },
  {
   "cell_type": "markdown",
   "id": "fe2e7a19",
   "metadata": {},
   "source": [
    "## Price Analysis"
   ]
  },
  {
   "cell_type": "code",
   "execution_count": 76,
   "id": "a8932cde",
   "metadata": {},
   "outputs": [
    {
     "name": "stdout",
     "output_type": "stream",
     "text": [
      "product_id              object\n",
      "product_name            object\n",
      "category                object\n",
      "discounted_price        object\n",
      "actual_price            object\n",
      "discount_percentage    float64\n",
      "rating                 float64\n",
      "rating_count            object\n",
      "about_product           object\n",
      "user_id                 object\n",
      "user_name               object\n",
      "review_id               object\n",
      "review_title            object\n",
      "review_content          object\n",
      "img_link                object\n",
      "product_link            object\n",
      "dtype: object\n"
     ]
    }
   ],
   "source": [
    "print(df.dtypes)"
   ]
  },
  {
   "cell_type": "code",
   "execution_count": 77,
   "id": "6f2afd55",
   "metadata": {},
   "outputs": [
    {
     "name": "stdout",
     "output_type": "stream",
     "text": [
      "['₹507' '₹749' '₹399' '₹279' '₹699' '₹289' '₹416' '₹486' '₹1,499' '₹1,289'\n",
      " '₹899' '₹765' '₹649' '₹599' '₹499' '₹1,849' '₹4,799' '₹1,990' '₹1,614'\n",
      " '₹616' '₹775' '₹2,719' '₹1,199' '₹1,699' '₹1,099' '₹2,219' '₹2,169'\n",
      " '₹1,409' '₹949' '₹269' '₹1,469' '₹2,976' '₹753' '₹539' '₹522' '₹980'\n",
      " '₹250' '₹249' '₹1,345' '₹150' '₹879' '₹600' '₹3,229' '₹1,599' '₹299'\n",
      " '₹467' '₹259' '₹3,487.77' '₹238' '₹2,199' '₹1,130' '₹1,999' '₹610' '₹561'\n",
      " '₹1,399' '₹6,199' '₹535' '₹6,120' '₹310' '₹2,499' '₹1,889' '₹125' '₹252'\n",
      " '₹480' '₹100' '₹90' '₹178' '₹825' '₹225' '₹191' '₹230' '₹200' '₹137'\n",
      " '₹157' '₹272' '₹39' '₹2,595' '₹130' '₹1,995' '₹209' '₹199' '₹2,698'\n",
      " '₹1,043' '₹1,464' '₹999' '₹510' '₹114' '₹67' '₹292' '₹549' '₹195' '₹449'\n",
      " '₹6,499' '₹160' '₹1,490' '₹2,695' '₹198' '₹2,799' '₹99' '₹2,699' '₹745'\n",
      " '₹2,148' '₹1,695' '₹159' '₹635' '₹1,295' '₹2,863' '₹2,640' '₹5,365'\n",
      " '₹309' '₹266' '₹380' '₹799' '₹479' '₹849' '₹185' '₹3,299' '₹1,799' '₹149'\n",
      " '₹3,599' '₹7,349' '₹625' '₹489' '₹229' '₹287' '₹3,498' '₹1,321' '₹729'\n",
      " '₹184' '₹219' '₹329' '₹3,699' '₹1,149' '₹179' '₹5,299' '₹14,499' '₹8,799'\n",
      " '₹475' '₹349' '₹998.06' '₹1,400' '₹3,711' '₹379' '₹1,819' '₹6,549'\n",
      " '₹2,280' '₹2,249' '₹688' '₹9,590' '₹1,495' '₹559' '₹579' '₹770' '₹4,449'\n",
      " '₹439' '₹7,999' '₹308' '₹571' '₹5,890' '₹598' '₹2,899' '₹2,095' '₹365'\n",
      " '₹657' '₹8,999' '₹8,886' '₹341' '₹2,742' '₹1,549' '₹440' '₹3,249'\n",
      " '₹3,180' '₹1,529' '₹1,500' '₹3,199' '₹979' '₹5,490' '₹917' '₹798' '₹457'\n",
      " '₹2,790' '₹3,657.66' '₹3,303' '₹2,599' '₹3,600' '₹3,645' '₹1,110' '₹139'\n",
      " '₹1,456' '₹1,299' '₹429' '₹1,656' '₹5,865' '₹709' '₹3,499' '₹1,249'\n",
      " '₹369' '₹119' '₹789' '₹4,280' '₹7,799' '₹325' '₹253' '₹8,699' '₹698'\n",
      " '₹1,815' '₹330' '₹89' '₹3,799' '₹175' '₹350' '₹629' '₹478' '₹6,800'\n",
      " '₹889' '₹569' '₹1,928' '₹2,320' '₹640' '₹50' '₹448' '₹1,089' '₹420'\n",
      " '₹335' '₹5,699' '₹6,999' '₹245' '₹134' '₹455' '₹1,982.84' '₹397' '₹8,599'\n",
      " '₹1,220' '₹295' '₹298' '₹12,609' '₹6,236' '₹260' '₹609' '₹326' '₹717'\n",
      " '₹120' '₹519' '₹3,859' '₹1,665' '₹596' '₹809' '₹664' '₹1,234' '₹656'\n",
      " '₹2,237.81' '₹1,349' '₹293' '₹637' '₹5,599' '₹96' '₹1,180' '₹1,899'\n",
      " '₹20,999' '₹15,499' '₹28,999' '₹13,999' '₹19,999' '₹16,499' '₹17,999'\n",
      " '₹29,990' '₹2,088' '₹425' '₹1,260' '₹900' '₹1,679' '₹333' '₹1,190'\n",
      " '₹1,745' '₹6,525' '₹8,199' '₹2,299' '₹645' '₹5,499' '₹239' '₹9,970'\n",
      " '₹351' '₹1,109' '₹1,049' '₹339' '₹850' '₹189' '₹689' '₹3,710' '₹1,625'\n",
      " '₹320' '₹681' '₹328' '₹12,490' '₹14,999' '₹1,519' '₹1,649' '₹3,349'\n",
      " '₹1,189' '₹165' '₹9,799' '₹24,499' '₹9,490' '₹314' '₹719' '₹1,792' '₹154'\n",
      " '₹375' '₹204' '₹4,999' '₹9,999' '₹828' '₹575' '₹355' '₹5,899' '₹3,999'\n",
      " '₹13,490' '₹24,990' '₹4,790' '₹218' '₹14,400' '₹6,990' '₹10,389' '₹2,903'\n",
      " '₹3,179' '₹1,182' '₹2,049' '₹10,099' '₹474' '₹2,179' '₹1,290' '₹2,099'\n",
      " '₹2,025' '₹6,299' '₹345' '₹929' '₹1,439' '₹653' '₹1,498' '₹2,590'\n",
      " '₹2,449' '₹12,499' '₹182' '₹6,790' '₹389' '₹129' '₹197' '₹173' '₹15,490'\n",
      " '₹190' '₹6,850' '₹169' '₹1,448' '₹7,299' '₹115' '₹235' '₹347' '₹655'\n",
      " '₹215' '₹1,449' '₹59' '₹3,190' '₹37,990' '₹1,075' '₹1,219' '₹395' '₹177'\n",
      " '₹948' '₹529' '₹176.63' '₹721' '₹29,999' '₹32,999' '₹116' '₹3,569' '₹247'\n",
      " '₹4,098' '₹1,563' '₹2,339' '₹1,187' '₹368' '₹30,990' '₹45,999' '₹251'\n",
      " '₹18,999' '₹290' '₹5,799' '₹61,999' '₹42,999' '₹1,804' '₹950' '₹15,999'\n",
      " '₹2,999' '₹337' '₹273.10' '₹5,999' '₹294' '₹2,949' '₹2,464' '₹1,595'\n",
      " '₹210' '₹354' '₹1,235' '₹20,990' '₹300' '₹1,052' '₹1,055' '₹231' '₹2,649'\n",
      " '₹970' '₹1,959' '₹217' '₹7,199' '₹4,499' '₹12,000' '₹2,399' '₹10,499'\n",
      " '₹8,349' '₹790' '₹1,414' '₹7,390' '₹873' '₹85' '₹7,499' '₹1,624' '₹587'\n",
      " '₹254' '₹378' '₹8,499' '₹213' '₹1,850' '₹21,999' '₹390' '₹7,915' '₹1,969'\n",
      " '₹319' '₹848.99' '₹398' '₹1,069' '₹205' '₹2,490' '₹16,999' '₹4,699'\n",
      " '₹9,495' '₹570' '₹3,041.67' '₹31,999' '₹1,565' '₹1,059' '₹453' '₹2,089'\n",
      " '₹32,990' '₹10,990' '₹445' '₹42,990' '₹7,998' '₹3,290' '₹998' '₹1,890'\n",
      " '₹1,369' '₹2,575' '₹1,598' '₹26,999' '₹417.44' '₹24,999' '₹263' '₹12,999'\n",
      " '₹1,090' '₹1,484' '₹69' '₹46,999' '₹1,547' '₹22,999' '₹18,990' '₹5,998'\n",
      " '₹1,709' '₹18,499' '₹469' '₹4,789' '₹697' '₹759' '₹77,990' '₹34,999'\n",
      " '₹939' '₹3,685' '₹23,999' '₹2,092' '₹2,669' '₹2,033' '₹1,324' '₹246'\n",
      " '₹15,990' '₹9,199' '₹95' '₹11,990' '₹10,901' '₹2,998' '₹778' '₹47,990'\n",
      " '₹27,900' '₹2,286' '₹11,499' '₹27,999' '₹228' '₹21,990' '₹353' '₹3,307'\n",
      " '₹265' '₹1,329' '₹2,079' '₹37,247' '₹33,999' '₹57.89' '₹88' '₹1,998'\n",
      " '₹8,990' '₹348' '₹10,999' '₹244' '₹79' '₹4,995' '₹1,898' '₹1,474'\n",
      " '₹44,999' '₹128.31' '₹5,395' '₹161' '₹2,439' '₹660' '₹426' '₹893' '₹419'\n",
      " '₹35,999' '₹498' '₹37,999' '₹281' '₹4,899' '₹54,990' '₹547' '₹1,434'\n",
      " '₹959' '₹1,989' '₹669' '₹193' '₹678' '₹1,601' '₹6,490' '₹9,499' '₹784'\n",
      " '₹13,990']\n"
     ]
    }
   ],
   "source": [
    "print(df['discounted_price'].unique())"
   ]
  },
  {
   "cell_type": "code",
   "execution_count": 78,
   "id": "4c282159",
   "metadata": {},
   "outputs": [
    {
     "data": {
      "text/plain": [
       "0         ₹507\n",
       "1         ₹507\n",
       "2         ₹749\n",
       "3         ₹399\n",
       "4         ₹279\n",
       "         ...  \n",
       "1460      ₹259\n",
       "1461    ₹1,299\n",
       "1462      ₹279\n",
       "1463      ₹249\n",
       "1464    ₹1,439\n",
       "Name: discounted_price, Length: 1465, dtype: object"
      ]
     },
     "execution_count": 78,
     "metadata": {},
     "output_type": "execute_result"
    }
   ],
   "source": [
    "df['discounted_price']=df['discounted_price'].astype(str)\n",
    "df['discounted_price']"
   ]
  },
  {
   "cell_type": "code",
   "execution_count": 79,
   "id": "306ae6b4",
   "metadata": {},
   "outputs": [
    {
     "data": {
      "text/plain": [
       "0        507.0\n",
       "1        507.0\n",
       "2        749.0\n",
       "3        399.0\n",
       "4        279.0\n",
       "         ...  \n",
       "1460     259.0\n",
       "1461    1299.0\n",
       "1462     279.0\n",
       "1463     249.0\n",
       "1464    1439.0\n",
       "Name: discounted_price, Length: 1465, dtype: float64"
      ]
     },
     "execution_count": 79,
     "metadata": {},
     "output_type": "execute_result"
    }
   ],
   "source": [
    "df['discounted_price'] = pd.to_numeric(df['discounted_price'].str.replace('₹', '').str.replace(',', '').str.strip(), errors='coerce')\n",
    "df['discounted_price']"
   ]
  },
  {
   "cell_type": "code",
   "execution_count": 80,
   "id": "7f710a3a",
   "metadata": {},
   "outputs": [
    {
     "data": {
      "text/plain": [
       "0       4.1\n",
       "1       4.1\n",
       "2       4.2\n",
       "3       4.3\n",
       "4       4.3\n",
       "       ... \n",
       "1460    4.0\n",
       "1461    2.0\n",
       "1462    4.8\n",
       "1463    5.0\n",
       "1464    4.8\n",
       "Name: rating, Length: 1465, dtype: float64"
      ]
     },
     "execution_count": 80,
     "metadata": {},
     "output_type": "execute_result"
    }
   ],
   "source": [
    "df['rating']=pd.to_numeric(df['rating'],errors='coerce')\n",
    "df['rating']"
   ]
  },
  {
   "cell_type": "code",
   "execution_count": 81,
   "id": "4bfbe95d",
   "metadata": {},
   "outputs": [
    {
     "name": "stdout",
     "output_type": "stream",
     "text": [
      "0.12033741712288558\n"
     ]
    }
   ],
   "source": [
    "correlation=df['discounted_price'].corr(df['rating'])\n",
    "print(correlation)"
   ]
  },
  {
   "cell_type": "markdown",
   "id": "ca05401c",
   "metadata": {},
   "source": [
    "The value of 0.1203 indicates a weak positive correlation between the two variables. This means that there is a slight tendency for the rating to increase as the price increases, but the relationship is not strong."
   ]
  },
  {
   "cell_type": "markdown",
   "id": "dfc405f5",
   "metadata": {},
   "source": [
    "## Review Analysis"
   ]
  },
  {
   "cell_type": "code",
   "execution_count": null,
   "id": "d1a4688f",
   "metadata": {},
   "outputs": [],
   "source": []
  },
  {
   "cell_type": "markdown",
   "id": "f38c6d64",
   "metadata": {},
   "source": [
    "## Rating Analysis\n"
   ]
  },
  {
   "cell_type": "code",
   "execution_count": 82,
   "id": "e0b192e3",
   "metadata": {},
   "outputs": [
    {
     "data": {
      "image/png": "[encoded data removed]",
      "text/plain": [
       "<Figure size 576x432 with 1 Axes>"
      ]
     },
     "metadata": {
      "needs_background": "light"
     },
     "output_type": "display_data"
    }
   ],
   "source": [
    "plt.figure(figsize=(8,6))\n",
    "sns.histplot(df['rating'],bins=5,kde=False,color='blue')\n",
    "plt.title(\"Distribution of products rating\",fontsize=16)\n",
    "plt.xlabel(\"Rating\",fontsize=12)\n",
    "plt.ylabel(\"Frequency\",fontsize=12)\n",
    "plt.show()"
   ]
  },
  {
   "cell_type": "markdown",
   "id": "81e62dcb",
   "metadata": {},
   "source": [
    "Distribution of ratings across all products"
   ]
  },
  {
   "cell_type": "markdown",
   "id": "6926fb0a",
   "metadata": {},
   "source": [
    "## Product Analysis"
   ]
  },
  {
   "cell_type": "code",
   "execution_count": 83,
   "id": "1c1fbe5b",
   "metadata": {},
   "outputs": [
    {
     "data": {
      "text/plain": [
       "('B01GGKYKQM',\n",
       " 'Amazon Basics USB Type-C to USB-A 2.0 Male Fast Charging Cable for Laptop - 3 Feet (0.9 Meters), Black',\n",
       " 4.3)"
      ]
     },
     "execution_count": 83,
     "metadata": {},
     "output_type": "execute_result"
    }
   ],
   "source": [
    "df3=df.groupby([\"product_id\",\"product_name\",\"rating\"])[\"review_id\"].count()\n",
    "df4=df3.idxmax()\n",
    "df4"
   ]
  },
  {
   "cell_type": "markdown",
   "id": "218937ea",
   "metadata": {},
   "source": [
    " product having highest number of reviews and with its rating"
   ]
  },
  {
   "cell_type": "markdown",
   "id": "aa49e4d9",
   "metadata": {},
   "source": [
    "## User Analysis"
   ]
  },
  {
   "cell_type": "code",
   "execution_count": 84,
   "id": "6cbd612d",
   "metadata": {},
   "outputs": [
    {
     "data": {
      "text/plain": [
       "AHIKJUDTVJ4T6DV6IUGFYZ5LXMPA,AE55KTFVNXYFD5FPYWP2OUPEYNPQ,AEBWA5I4QFCA3P3OBEPMELBGN4GQ,AHMGAC6QM62UXNEOCZIHLHSXPP2Q,AFHROSCGIXUPV3FYQ7H5QOD46Q7Q,AEAMIR3CMSA32IDEINSJKHRNANTA,AF355FTXYAKFH5NYPRTE7SL3WO3Q,AG5DWPD54QGSLWJ6QUFERLPNAX4Q    10\n",
       "AGAELRYPMTG5SADZPDYB343EASAA,AGFN4JODOM2NTFCJQOHDBQLVDJTQ,AG7EZVSAXIVGMNDLSA55K7URQCJA,AGGF75HIEMB67OU7J3RDALBSUKQQ,AHY5CI4SU6JBYPIZ5RLAGO6W3F4A,AE4KODNBVTDCZWZO4HZM4GTRERPA,AH6HFHSYOY2OHMODD7244DHG7FUQ,AHRW5JERWYAJCZO65PDKZSOEPR6Q     8\n",
       "AG3D6O4STAQKAY2UVGEUV46KN35Q,AHMY5CWJMMK5BJRBBSNLYT3ONILA,AHCTC6ULH4XB6YHDY6PCH2R772LQ,AGYHHIERNXKA6P5T7CZLXKVPT7IQ,AG4OGOFWXJZTQ2HKYIOCOY3KXF2Q,AENGU523SXMOS7JPDTW52PNNVWGQ,AEQJHCVTNINBS4FKTBGQRQTGTE5Q,AFC3FFC5PKFF5PMA52S3VCHOZ5FQ     8\n",
       "AECPFYFQVRUWC3KGNLJIOREFP5LQ,AGYYVPDD7YG7FYNBXNGXZJT525AQ,AHONIZU3ICIEHQIGQ6R2VFRSBXOQ,AFPHD2CRPDZMWMBL7WXRSVYWS5JA,AEZ346GX3HJ4O4XNRPHCNHXQURMQ,AEPSWFPNECKO34PUC7I56ITGXR6Q,AHWVEHR5DYLVFTO2KF3IZATFQSWQ,AH4QT33M55677I7ISQOAKEQWACYQ     7\n",
       "AEWAZDZZJLQUYVOVGBEUKSLXHQ5A,AG5HTSFRRE6NL3M5SGCUQBP7YSCA,AH725ST5NW2Y4JZPKUNTIJCUK2BA,AHV3TXIFCJPMS4D5JATCEUR266MQ,AGWIGDEMFIIUAOXYY2QATNBSUGHA,AFSTSLQUV4EVEXWKBOLEFHL2H5YQ,AGAKDNBHY2FKX7I4ACRGILU7QL7A,AFNWJUWJRHCC6HN52KMG5AKZY37Q     7\n",
       "Name: user_id, dtype: int64"
      ]
     },
     "execution_count": 84,
     "metadata": {},
     "output_type": "execute_result"
    }
   ],
   "source": [
    "top_user=df['user_id'].value_counts().head(5)\n",
    "top_user"
   ]
  },
  {
   "cell_type": "markdown",
   "id": "55ebea9f",
   "metadata": {},
   "source": [
    "## Review Length Analysis"
   ]
  },
  {
   "cell_type": "code",
   "execution_count": 85,
   "id": "72918e5e",
   "metadata": {},
   "outputs": [
    {
     "data": {
      "text/plain": [
       "0        483\n",
       "1        483\n",
       "2       3989\n",
       "3       1060\n",
       "4        635\n",
       "        ... \n",
       "1460     541\n",
       "1461     227\n",
       "1462    2249\n",
       "1463      86\n",
       "1464     134\n",
       "Name: review_length, Length: 1465, dtype: int64"
      ]
     },
     "execution_count": 85,
     "metadata": {},
     "output_type": "execute_result"
    }
   ],
   "source": [
    "df['review_length']=df['review_content'].str.len()\n",
    "df['review_length']"
   ]
  },
  {
   "cell_type": "code",
   "execution_count": 86,
   "id": "d4c137fa",
   "metadata": {},
   "outputs": [],
   "source": [
    "df['rating']=pd.to_numeric(df['rating'],errors='coerce')"
   ]
  },
  {
   "cell_type": "code",
   "execution_count": 87,
   "id": "09df0547",
   "metadata": {},
   "outputs": [
    {
     "name": "stdout",
     "output_type": "stream",
     "text": [
      "0.07735562482605444\n"
     ]
    }
   ],
   "source": [
    "correlation1=df['review_length'].corr(df['rating'])\n",
    "print(correlation1)"
   ]
  },
  {
   "cell_type": "markdown",
   "id": "417ad9d0",
   "metadata": {},
   "source": [
    "A correlation of 0.077 between the length of a review and the rating given indicates a very weak positive correlation. In this context, it means that as the length of a review increases, the rating tends to increase slightly, but the relationship is not strong or significant."
   ]
  },
  {
   "cell_type": "markdown",
   "id": "760e9364",
   "metadata": {},
   "source": [
    "## Image Analysis"
   ]
  },
  {
   "cell_type": "code",
   "execution_count": 88,
   "id": "57dd0256",
   "metadata": {},
   "outputs": [],
   "source": [
    "df['has_link']=df['img_link'].apply(lambda x : bool(x.strip()))"
   ]
  },
  {
   "cell_type": "code",
   "execution_count": 89,
   "id": "a3fa08b1",
   "metadata": {},
   "outputs": [],
   "source": [
    "avg_rating=df.groupby('has_link')['rating'].mean()"
   ]
  },
  {
   "cell_type": "code",
   "execution_count": 90,
   "id": "ca94e5b1",
   "metadata": {},
   "outputs": [
    {
     "name": "stdout",
     "output_type": "stream",
     "text": [
      "has_link\n",
      "True    4.096585\n",
      "Name: rating, dtype: float64\n"
     ]
    }
   ],
   "source": [
    "print(avg_rating)"
   ]
  },
  {
   "cell_type": "markdown",
   "id": "35049b6d",
   "metadata": {},
   "source": [
    "Every product has an image link.So, there is no such effect of having image link on products rating"
   ]
  },
  {
   "cell_type": "markdown",
   "id": "6213865c",
   "metadata": {},
   "source": [
    "## Product Description Analysis"
   ]
  },
  {
   "cell_type": "code",
   "execution_count": 91,
   "id": "af2df868",
   "metadata": {},
   "outputs": [],
   "source": [
    "df['product_description_length']=df['about_product'].str.len()"
   ]
  },
  {
   "cell_type": "code",
   "execution_count": 92,
   "id": "fc858866",
   "metadata": {},
   "outputs": [
    {
     "name": "stdout",
     "output_type": "stream",
     "text": [
      "0.027639221883618517\n"
     ]
    }
   ],
   "source": [
    "correlation2=df['product_description_length'].corr(df['rating'])\n",
    "print(correlation2)"
   ]
  },
  {
   "cell_type": "markdown",
   "id": "43aa50ea",
   "metadata": {},
   "source": [
    "A correlation of 0.027 between the length of the product description and the product's rating indicates a very weak positive correlation. This suggests that there is almost no relationship between the two variables."
   ]
  },
  {
   "cell_type": "code",
   "execution_count": null,
   "id": "6834c852",
   "metadata": {},
   "outputs": [],
   "source": []
  }
 ],
 "metadata": {
  "kernelspec": {
   "display_name": "Python 3 (ipykernel)",
   "language": "python",
   "name": "python3"
  },
  "language_info": {
   "codemirror_mode": {
    "name": "ipython",
    "version": 3
   },
   "file_extension": ".py",
   "mimetype": "text/x-python",
   "name": "python",
   "nbconvert_exporter": "python",
   "pygments_lexer": "ipython3",
   "version": "3.9.7"
  }
 },
 "nbformat": 4,
 "nbformat_minor": 5
}
